{
 "cells": [
  {
   "cell_type": "code",
   "execution_count": 1,
   "metadata": {},
   "outputs": [],
   "source": [
    "import os\n",
    "import random\n",
    "from collections import Counter\n",
    "\n",
    "import pandas as pd\n",
    "import numpy as np\n",
    "from sklearn.model_selection import train_test_split\n",
    "from imblearn.under_sampling import RandomUnderSampler\n",
    "from sklearn.preprocessing import StandardScaler, MinMaxScaler, RobustScaler\n",
    "from sklearn.metrics import confusion_matrix\n",
    "\n",
    "pd.options.display.float_format = '{:.4f}'.format"
   ]
  },
  {
   "cell_type": "code",
   "execution_count": 2,
   "metadata": {},
   "outputs": [],
   "source": [
    "from sklearn.linear_model import SGDClassifier, LogisticRegressionCV, LogisticRegression"
   ]
  },
  {
   "cell_type": "code",
   "execution_count": 3,
   "metadata": {},
   "outputs": [],
   "source": [
    "def confusion_matrix_report(true, pred):\n",
    "    [tn, fp, fn, tp] = confusion_matrix(true, pred).ravel()\n",
    "    precision = tp/(fp + tp)\n",
    "    recall = tp/(fn + tp)\n",
    "    print(f\"\\t\\tT\\tF\")\n",
    "    print(f\"\\t1 [{tp:5d}, {fn:5d}]\")\n",
    "    print(f\"\\t0 [{fp:5d}, {tn:5d}]\")\n",
    "    print(f\"accuracy : \\t{ (tp+tn)/(tn + fp + fn + tp) :2.5f}\")\n",
    "    print(f\"precision : \\t{precision:2.5f}\")\n",
    "    print(f\"recall : \\t{recall:2.5f}\")\n",
    "    print(f\"f1score : \\t{(2*recall*precision)/(recall+precision):2.5f}\")\n",
    "    \n",
    "    \n",
    "def shuffle(x, y):\n",
    "    idx = list(range(y_resample.shape[0]))\n",
    "    random.shuffle(idx)\n",
    "    return x[idx], y[idx]"
   ]
  },
  {
   "cell_type": "code",
   "execution_count": 4,
   "metadata": {},
   "outputs": [],
   "source": [
    "dataset = pd.read_csv(os.path.join(\"/home/gruds/projects/chan/pico/dataset/credit_card\",\"preprocessed.csv\"), index_col = 0)"
   ]
  },
  {
   "cell_type": "code",
   "execution_count": 5,
   "metadata": {},
   "outputs": [],
   "source": [
    "columns = ['V1', 'V2', 'V3', 'V4', 'V5', 'V6', 'V7', 'V8', 'V9', 'V10', 'V11',\n",
    "           'V12', 'V13', 'V14', 'V15', 'V16', 'V17', 'V18', 'V19', 'V20', 'V21',\n",
    "           'V22', 'V23', 'V24', 'V25', 'V26', 'V27', 'V28', 'Amount', 'Time',\n",
    "           'Class']\n",
    "dataset = dataset[columns]"
   ]
  },
  {
   "cell_type": "code",
   "execution_count": 6,
   "metadata": {},
   "outputs": [],
   "source": [
    "reduce_size = False\n",
    "normalize = True"
   ]
  },
  {
   "cell_type": "code",
   "execution_count": 7,
   "metadata": {},
   "outputs": [],
   "source": [
    "if reduce_size:\n",
    "    columns = dataset.columns\n",
    "    x = dataset.drop(\"Class\",axis =1).values\n",
    "    y = dataset.Class.values\n",
    "\n",
    "    rus = RandomUnderSampler(random_state=42, sampling_strategy=0.01)\n",
    "    x , y = rus.fit_resample(x, y)\n",
    "    reduced = np.concatenate([x, y.reshape((-1,1))], axis =1)\n",
    "\n",
    "    del x, y\n",
    "    dataset = pd.DataFrame(data=reduced, columns=columns)"
   ]
  },
  {
   "cell_type": "code",
   "execution_count": 8,
   "metadata": {},
   "outputs": [],
   "source": [
    "if normalize:\n",
    "    is_fraud = dataset.Class.values.copy()\n",
    "\n",
    "    scaler = StandardScaler() # RobustScaler # MinMaxScaler # StandardScaler\n",
    "\n",
    "    transformed = dataset.drop(\"Class\",axis =1)\n",
    "    columns = transformed.columns\n",
    "    transformed = scaler.fit_transform(transformed)\n",
    "\n",
    "    del dataset\n",
    "    dataset = pd.DataFrame(data=transformed, columns=columns)\n",
    "    dataset = dataset.assign(Class = is_fraud)"
   ]
  },
  {
   "cell_type": "code",
   "execution_count": 9,
   "metadata": {},
   "outputs": [],
   "source": [
    "x = dataset.drop('Class', axis =1)\n",
    "y = dataset.Class"
   ]
  },
  {
   "cell_type": "code",
   "execution_count": 10,
   "metadata": {},
   "outputs": [],
   "source": [
    "x_train, x_test, y_train, y_test = train_test_split(x, y, test_size=0.2, random_state=42)"
   ]
  },
  {
   "cell_type": "markdown",
   "metadata": {},
   "source": [
    "# normal"
   ]
  },
  {
   "cell_type": "code",
   "execution_count": 11,
   "metadata": {},
   "outputs": [
    {
     "data": {
      "text/plain": [
       "Counter({0: 227430, 1: 393})"
      ]
     },
     "execution_count": 11,
     "metadata": {},
     "output_type": "execute_result"
    }
   ],
   "source": [
    "Counter(y_train)"
   ]
  },
  {
   "cell_type": "code",
   "execution_count": 12,
   "metadata": {},
   "outputs": [
    {
     "name": "stderr",
     "output_type": "stream",
     "text": [
      "[Parallel(n_jobs=6)]: Using backend LokyBackend with 6 concurrent workers.\n",
      "[Parallel(n_jobs=6)]: Done   1 out of   1 | elapsed:    9.4s finished\n"
     ]
    },
    {
     "data": {
      "text/plain": [
       "LogisticRegression(C=1.0, class_weight=None, dual=False, fit_intercept=True,\n",
       "                   intercept_scaling=1, l1_ratio=None, max_iter=100,\n",
       "                   multi_class='ovr', n_jobs=6, penalty='l2', random_state=None,\n",
       "                   solver='lbfgs', tol=0.0001, verbose=2, warm_start=False)"
      ]
     },
     "execution_count": 12,
     "metadata": {},
     "output_type": "execute_result"
    }
   ],
   "source": [
    "logistic_regression = LogisticRegression(penalty='l2', dual=False, tol=0.0001, C=1.0, fit_intercept=True\n",
    "                                        , intercept_scaling=1, class_weight=None, random_state=None, solver='lbfgs', max_iter=100\n",
    "                                        , multi_class='ovr', verbose=2, warm_start=False, n_jobs=6\n",
    "                        )\n",
    "logistic_regression.fit(x_train, y_train)"
   ]
  },
  {
   "cell_type": "code",
   "execution_count": 13,
   "metadata": {},
   "outputs": [],
   "source": [
    "y_pred = logistic_regression.predict(x_test)"
   ]
  },
  {
   "cell_type": "code",
   "execution_count": 14,
   "metadata": {},
   "outputs": [
    {
     "name": "stdout",
     "output_type": "stream",
     "text": [
      "\t\tT\tF\n",
      "\t1 [   66,    11]\n",
      "\t0 [   29, 56850]\n",
      "accuracy : \t0.99930\n",
      "precision : \t0.69474\n",
      "recall : \t0.85714\n",
      "f1score : \t0.76744\n"
     ]
    }
   ],
   "source": [
    "confusion_matrix_report(y_pred, y_test)"
   ]
  },
  {
   "cell_type": "markdown",
   "metadata": {},
   "source": [
    "# random oversampling"
   ]
  },
  {
   "cell_type": "code",
   "execution_count": 15,
   "metadata": {},
   "outputs": [],
   "source": [
    "from imblearn.over_sampling import RandomOverSampler"
   ]
  },
  {
   "cell_type": "code",
   "execution_count": 16,
   "metadata": {},
   "outputs": [],
   "source": [
    "ros = RandomOverSampler(sampling_strategy=0.01, random_state=42)\n",
    "x_resample, y_resample = ros.fit_resample(x_train, y_train)"
   ]
  },
  {
   "cell_type": "code",
   "execution_count": 17,
   "metadata": {},
   "outputs": [
    {
     "data": {
      "text/plain": [
       "Counter({0: 227430, 1: 2274})"
      ]
     },
     "execution_count": 17,
     "metadata": {},
     "output_type": "execute_result"
    }
   ],
   "source": [
    "Counter(y_resample)"
   ]
  },
  {
   "cell_type": "code",
   "execution_count": 18,
   "metadata": {},
   "outputs": [
    {
     "name": "stderr",
     "output_type": "stream",
     "text": [
      "[Parallel(n_jobs=6)]: Using backend LokyBackend with 6 concurrent workers.\n",
      "[Parallel(n_jobs=6)]: Done   1 out of   1 | elapsed:    7.7s finished\n"
     ]
    },
    {
     "data": {
      "text/plain": [
       "LogisticRegression(C=1.0, class_weight=None, dual=False, fit_intercept=True,\n",
       "                   intercept_scaling=1, l1_ratio=None, max_iter=100,\n",
       "                   multi_class='ovr', n_jobs=6, penalty='l2', random_state=None,\n",
       "                   solver='lbfgs', tol=0.0001, verbose=2, warm_start=False)"
      ]
     },
     "execution_count": 18,
     "metadata": {},
     "output_type": "execute_result"
    }
   ],
   "source": [
    "logistic_regression = LogisticRegression(penalty='l2', dual=False, tol=0.0001, C=1.0, fit_intercept=True\n",
    "                                        , intercept_scaling=1, class_weight=None, random_state=None, solver='lbfgs', max_iter=100\n",
    "                                        , multi_class='ovr', verbose=2, warm_start=False, n_jobs=6\n",
    "                        )\n",
    "logistic_regression.fit(x_resample, y_resample)"
   ]
  },
  {
   "cell_type": "code",
   "execution_count": 19,
   "metadata": {},
   "outputs": [],
   "source": [
    "y_pred = logistic_regression.predict(x_test)"
   ]
  },
  {
   "cell_type": "code",
   "execution_count": 20,
   "metadata": {},
   "outputs": [
    {
     "name": "stdout",
     "output_type": "stream",
     "text": [
      "\t\tT\tF\n",
      "\t1 [   79,    16]\n",
      "\t0 [   16, 56845]\n",
      "accuracy : \t0.99944\n",
      "precision : \t0.83158\n",
      "recall : \t0.83158\n",
      "f1score : \t0.83158\n"
     ]
    }
   ],
   "source": [
    "confusion_matrix_report(y_pred, y_test)"
   ]
  },
  {
   "cell_type": "markdown",
   "metadata": {},
   "source": [
    "# variational oversampling"
   ]
  },
  {
   "cell_type": "code",
   "execution_count": 21,
   "metadata": {},
   "outputs": [],
   "source": [
    "from sklearn.decomposition import PCA\n",
    "import matplotlib.pyplot as plt"
   ]
  },
  {
   "cell_type": "code",
   "execution_count": 22,
   "metadata": {},
   "outputs": [
    {
     "data": {
      "text/plain": [
       "Counter({0: 227430, 1: 393})"
      ]
     },
     "execution_count": 22,
     "metadata": {},
     "output_type": "execute_result"
    }
   ],
   "source": [
    "Counter(y_train)"
   ]
  },
  {
   "cell_type": "code",
   "execution_count": 23,
   "metadata": {},
   "outputs": [
    {
     "name": "stdout",
     "output_type": "stream",
     "text": [
      "tensorflow version 2.0.0\n"
     ]
    }
   ],
   "source": [
    "from vos import VariationalOversampler\n",
    "variational_oversampler = VariationalOversampler(8)"
   ]
  },
  {
   "cell_type": "code",
   "execution_count": 24,
   "metadata": {
    "collapsed": true,
    "jupyter": {
     "outputs_hidden": true
    }
   },
   "outputs": [
    {
     "name": "stdout",
     "output_type": "stream",
     "text": [
      "WARNING:tensorflow:Output decoder missing from loss dictionary. We assume this was done on purpose. The fit and evaluate APIs will not be expecting any data to be passed to decoder.\n",
      "WARNING:tensorflow:Falling back from v2 loop because of error: Failed to find data adapter that can handle input: <class 'pandas.core.frame.DataFrame'>, <class 'NoneType'>\n",
      "Train on 314 samples, validate on 79 samples\n",
      "Epoch 1/1000\n",
      "314/314 [==============================] - 1s 2ms/sample - loss: 319120.0007 - val_loss: 44.8747\n",
      "Epoch 2/1000\n",
      "314/314 [==============================] - 0s 112us/sample - loss: 94.1769 - val_loss: 53.8107\n",
      "Epoch 3/1000\n",
      "314/314 [==============================] - 0s 125us/sample - loss: 96.0346 - val_loss: 35.6919\n",
      "Epoch 4/1000\n",
      "314/314 [==============================] - 0s 138us/sample - loss: 64.0151 - val_loss: 22.3542\n",
      "Epoch 5/1000\n",
      "314/314 [==============================] - 0s 133us/sample - loss: 53.1122 - val_loss: 21.0031\n",
      "Epoch 6/1000\n",
      "314/314 [==============================] - 0s 125us/sample - loss: 39.6669 - val_loss: 16.9379\n",
      "Epoch 7/1000\n",
      "314/314 [==============================] - 0s 128us/sample - loss: 47.9347 - val_loss: 16.5947\n",
      "Epoch 8/1000\n",
      "314/314 [==============================] - 0s 139us/sample - loss: 27.1041 - val_loss: 14.9781\n",
      "Epoch 9/1000\n",
      "314/314 [==============================] - 0s 118us/sample - loss: 25.0056 - val_loss: 9.2997\n",
      "Epoch 10/1000\n",
      "314/314 [==============================] - 0s 92us/sample - loss: 12.9390 - val_loss: 11.0340\n",
      "Epoch 11/1000\n",
      "314/314 [==============================] - 0s 111us/sample - loss: 13.7563 - val_loss: 7.8713\n",
      "Epoch 12/1000\n",
      "314/314 [==============================] - 0s 125us/sample - loss: 9.5946 - val_loss: 7.0002\n",
      "Epoch 13/1000\n",
      "314/314 [==============================] - 0s 111us/sample - loss: 9.9879 - val_loss: 6.5693\n",
      "Epoch 14/1000\n",
      "314/314 [==============================] - 0s 112us/sample - loss: 8.9507 - val_loss: 6.5463\n",
      "Epoch 15/1000\n",
      "314/314 [==============================] - 0s 116us/sample - loss: 8.4674 - val_loss: 6.1274\n",
      "Epoch 16/1000\n",
      "314/314 [==============================] - 0s 104us/sample - loss: 8.3483 - val_loss: 6.8650\n",
      "Epoch 17/1000\n",
      "314/314 [==============================] - 0s 132us/sample - loss: 8.5928 - val_loss: 5.8423\n",
      "Epoch 18/1000\n",
      "314/314 [==============================] - 0s 127us/sample - loss: 8.3265 - val_loss: 5.6300\n",
      "Epoch 19/1000\n",
      "314/314 [==============================] - 0s 109us/sample - loss: 7.9826 - val_loss: 5.7195\n",
      "Epoch 20/1000\n",
      "314/314 [==============================] - 0s 102us/sample - loss: 7.5298 - val_loss: 5.6405\n",
      "Epoch 21/1000\n",
      "314/314 [==============================] - 0s 137us/sample - loss: 7.6764 - val_loss: 5.2792\n",
      "Epoch 22/1000\n",
      "314/314 [==============================] - 0s 123us/sample - loss: 7.4816 - val_loss: 5.1791\n",
      "Epoch 23/1000\n",
      "314/314 [==============================] - 0s 125us/sample - loss: 7.2214 - val_loss: 4.9976\n",
      "Epoch 24/1000\n",
      "314/314 [==============================] - 0s 108us/sample - loss: 7.2391 - val_loss: 5.0908\n",
      "Epoch 25/1000\n",
      "314/314 [==============================] - 0s 108us/sample - loss: 7.1433 - val_loss: 5.2790\n",
      "Epoch 26/1000\n",
      "314/314 [==============================] - 0s 153us/sample - loss: 7.0017 - val_loss: 5.1634\n",
      "Epoch 27/1000\n",
      "314/314 [==============================] - 0s 102us/sample - loss: 7.0954 - val_loss: 5.3442\n",
      "Epoch 28/1000\n",
      "314/314 [==============================] - 0s 129us/sample - loss: 6.9081 - val_loss: 4.9307\n",
      "Epoch 29/1000\n",
      "314/314 [==============================] - 0s 104us/sample - loss: 6.6820 - val_loss: 5.2362\n",
      "Epoch 30/1000\n",
      "314/314 [==============================] - 0s 111us/sample - loss: 6.5585 - val_loss: 5.1338\n",
      "Epoch 31/1000\n",
      "314/314 [==============================] - 0s 154us/sample - loss: 6.7482 - val_loss: 4.7025\n",
      "Epoch 32/1000\n",
      "314/314 [==============================] - 0s 112us/sample - loss: 6.7196 - val_loss: 4.8394\n",
      "Epoch 33/1000\n",
      "314/314 [==============================] - 0s 108us/sample - loss: 6.6025 - val_loss: 5.3617\n",
      "Epoch 34/1000\n",
      "314/314 [==============================] - 0s 108us/sample - loss: 6.6394 - val_loss: 5.0540\n",
      "Epoch 35/1000\n",
      "314/314 [==============================] - 0s 116us/sample - loss: 6.6460 - val_loss: 5.2325\n",
      "Epoch 36/1000\n",
      "314/314 [==============================] - 0s 147us/sample - loss: 6.5309 - val_loss: 4.8162\n",
      "Epoch 37/1000\n",
      "314/314 [==============================] - 0s 149us/sample - loss: 6.3284 - val_loss: 4.6598\n",
      "Epoch 38/1000\n",
      "314/314 [==============================] - 0s 144us/sample - loss: 6.4789 - val_loss: 4.6466\n",
      "Epoch 39/1000\n",
      "314/314 [==============================] - 0s 98us/sample - loss: 6.3762 - val_loss: 4.6483\n",
      "Epoch 40/1000\n",
      "314/314 [==============================] - 0s 117us/sample - loss: 6.2730 - val_loss: 4.6484\n",
      "Epoch 41/1000\n",
      "314/314 [==============================] - 0s 104us/sample - loss: 6.1512 - val_loss: 4.6512\n",
      "Epoch 42/1000\n",
      "314/314 [==============================] - 0s 135us/sample - loss: 6.1857 - val_loss: 4.6377\n",
      "Epoch 43/1000\n",
      "314/314 [==============================] - 0s 130us/sample - loss: 6.2045 - val_loss: 4.5012\n",
      "Epoch 44/1000\n",
      "314/314 [==============================] - 0s 131us/sample - loss: 6.0487 - val_loss: 4.9091\n",
      "Epoch 45/1000\n",
      "314/314 [==============================] - 0s 108us/sample - loss: 6.1257 - val_loss: 4.7989\n",
      "Epoch 46/1000\n",
      "314/314 [==============================] - 0s 104us/sample - loss: 6.0008 - val_loss: 4.7070\n",
      "Epoch 47/1000\n",
      "314/314 [==============================] - 0s 150us/sample - loss: 5.9894 - val_loss: 4.4879\n",
      "Epoch 48/1000\n",
      "314/314 [==============================] - 0s 116us/sample - loss: 5.9595 - val_loss: 4.6364\n",
      "Epoch 49/1000\n",
      "314/314 [==============================] - 0s 155us/sample - loss: 5.8371 - val_loss: 4.2807\n",
      "Epoch 50/1000\n",
      "314/314 [==============================] - 0s 119us/sample - loss: 5.8774 - val_loss: 4.5368\n",
      "Epoch 51/1000\n",
      "314/314 [==============================] - 0s 130us/sample - loss: 5.6942 - val_loss: 4.7777\n",
      "Epoch 52/1000\n",
      "314/314 [==============================] - 0s 103us/sample - loss: 5.8948 - val_loss: 4.4444\n",
      "Epoch 53/1000\n",
      "314/314 [==============================] - 0s 96us/sample - loss: 5.6165 - val_loss: 4.4096\n",
      "Epoch 54/1000\n",
      "314/314 [==============================] - 0s 112us/sample - loss: 5.5737 - val_loss: 4.4856\n",
      "Epoch 55/1000\n",
      "314/314 [==============================] - 0s 108us/sample - loss: 5.7184 - val_loss: 4.4060\n",
      "Epoch 56/1000\n",
      "314/314 [==============================] - 0s 114us/sample - loss: 5.4307 - val_loss: 4.6685\n",
      "Epoch 57/1000\n",
      "314/314 [==============================] - 0s 112us/sample - loss: 5.1817 - val_loss: 4.3337\n",
      "Epoch 58/1000\n",
      "314/314 [==============================] - 0s 143us/sample - loss: 5.4872 - val_loss: 4.1656\n",
      "Epoch 59/1000\n",
      "314/314 [==============================] - 0s 96us/sample - loss: 5.4003 - val_loss: 4.2568\n",
      "Epoch 60/1000\n",
      "314/314 [==============================] - 0s 99us/sample - loss: 5.1518 - val_loss: 4.4153\n",
      "Epoch 61/1000\n",
      "314/314 [==============================] - 0s 98us/sample - loss: 4.7978 - val_loss: 4.2920\n",
      "Epoch 62/1000\n",
      "314/314 [==============================] - 0s 133us/sample - loss: 5.2438 - val_loss: 4.1473\n",
      "Epoch 63/1000\n",
      "314/314 [==============================] - 0s 117us/sample - loss: 5.0364 - val_loss: 4.3231\n",
      "Epoch 64/1000\n",
      "314/314 [==============================] - 0s 116us/sample - loss: 4.7658 - val_loss: 4.2428\n",
      "Epoch 65/1000\n",
      "314/314 [==============================] - 0s 120us/sample - loss: 4.9007 - val_loss: 4.2824\n",
      "Epoch 66/1000\n",
      "314/314 [==============================] - 0s 139us/sample - loss: 4.7079 - val_loss: 4.0546\n",
      "Epoch 67/1000\n",
      "314/314 [==============================] - 0s 141us/sample - loss: 4.6013 - val_loss: 4.1259\n",
      "Epoch 68/1000\n",
      "314/314 [==============================] - 0s 105us/sample - loss: 4.5985 - val_loss: 4.0736\n",
      "Epoch 69/1000\n",
      "314/314 [==============================] - 0s 99us/sample - loss: 4.6771 - val_loss: 4.3435\n",
      "Epoch 70/1000\n",
      "314/314 [==============================] - 0s 104us/sample - loss: 4.5249 - val_loss: 4.0956\n",
      "Epoch 71/1000\n",
      "314/314 [==============================] - 0s 96us/sample - loss: 4.4140 - val_loss: 4.1670\n",
      "Epoch 72/1000\n",
      "314/314 [==============================] - 0s 102us/sample - loss: 4.2942 - val_loss: 4.3582\n",
      "Epoch 73/1000\n",
      "314/314 [==============================] - 0s 149us/sample - loss: 4.4575 - val_loss: 3.9748\n",
      "Epoch 74/1000\n",
      "314/314 [==============================] - 0s 130us/sample - loss: 4.1752 - val_loss: 3.8209\n",
      "Epoch 75/1000\n",
      "314/314 [==============================] - 0s 111us/sample - loss: 4.0889 - val_loss: 3.9035\n",
      "Epoch 76/1000\n",
      "314/314 [==============================] - 0s 107us/sample - loss: 3.8940 - val_loss: 4.1368\n",
      "Epoch 77/1000\n",
      "314/314 [==============================] - 0s 142us/sample - loss: 4.0253 - val_loss: 3.7972\n",
      "Epoch 78/1000\n",
      "314/314 [==============================] - 0s 112us/sample - loss: 3.8162 - val_loss: 3.8581\n",
      "Epoch 79/1000\n",
      "314/314 [==============================] - 0s 143us/sample - loss: 3.6502 - val_loss: 3.6589\n",
      "Epoch 80/1000\n",
      "314/314 [==============================] - 0s 104us/sample - loss: 3.6368 - val_loss: 3.8980\n",
      "Epoch 81/1000\n",
      "314/314 [==============================] - 0s 138us/sample - loss: 3.7491 - val_loss: 3.7467\n",
      "Epoch 82/1000\n",
      "314/314 [==============================] - 0s 125us/sample - loss: 3.6691 - val_loss: 4.0792\n",
      "Epoch 83/1000\n",
      "314/314 [==============================] - 0s 104us/sample - loss: 3.6320 - val_loss: 3.6806\n",
      "Epoch 84/1000\n",
      "314/314 [==============================] - 0s 103us/sample - loss: 3.5485 - val_loss: 4.1229\n",
      "Epoch 85/1000\n",
      "314/314 [==============================] - 0s 128us/sample - loss: 3.5792 - val_loss: 3.6257\n",
      "Epoch 86/1000\n",
      "314/314 [==============================] - 0s 108us/sample - loss: 3.6188 - val_loss: 3.8111\n",
      "Epoch 87/1000\n",
      "314/314 [==============================] - 0s 146us/sample - loss: 3.2992 - val_loss: 3.5400\n",
      "Epoch 88/1000\n",
      "314/314 [==============================] - 0s 123us/sample - loss: 3.2719 - val_loss: 3.8535\n",
      "Epoch 89/1000\n",
      "314/314 [==============================] - 0s 134us/sample - loss: 3.2842 - val_loss: 3.4460\n",
      "Epoch 90/1000\n",
      "314/314 [==============================] - 0s 108us/sample - loss: 3.2310 - val_loss: 3.7214\n",
      "Epoch 91/1000\n",
      "314/314 [==============================] - 0s 128us/sample - loss: 3.6134 - val_loss: 3.4251\n",
      "Epoch 92/1000\n",
      "314/314 [==============================] - 0s 113us/sample - loss: 3.4043 - val_loss: 3.9243\n",
      "Epoch 93/1000\n",
      "314/314 [==============================] - 0s 112us/sample - loss: 3.3839 - val_loss: 3.5410\n",
      "Epoch 94/1000\n",
      "314/314 [==============================] - 0s 95us/sample - loss: 3.0833 - val_loss: 3.4958\n",
      "Epoch 95/1000\n",
      "314/314 [==============================] - 0s 146us/sample - loss: 3.0568 - val_loss: 3.2285\n",
      "Epoch 96/1000\n",
      "314/314 [==============================] - 0s 116us/sample - loss: 2.9373 - val_loss: 3.6308\n",
      "Epoch 97/1000\n",
      "314/314 [==============================] - 0s 120us/sample - loss: 3.1194 - val_loss: 3.4780\n",
      "Epoch 98/1000\n",
      "314/314 [==============================] - 0s 105us/sample - loss: 3.1562 - val_loss: 3.5388\n",
      "Epoch 99/1000\n",
      "314/314 [==============================] - 0s 117us/sample - loss: 2.9069 - val_loss: 3.2292\n",
      "Epoch 100/1000\n",
      "314/314 [==============================] - 0s 107us/sample - loss: 2.8059 - val_loss: 3.2302\n",
      "Epoch 101/1000\n",
      "314/314 [==============================] - 0s 136us/sample - loss: 2.6424 - val_loss: 3.2096\n",
      "Epoch 102/1000\n",
      "314/314 [==============================] - 0s 109us/sample - loss: 2.7484 - val_loss: 3.5989\n",
      "Epoch 103/1000\n",
      "314/314 [==============================] - 0s 136us/sample - loss: 3.1106 - val_loss: 3.1342\n",
      "Epoch 104/1000\n",
      "314/314 [==============================] - 0s 126us/sample - loss: 2.8343 - val_loss: 3.1703\n",
      "Epoch 105/1000\n",
      "314/314 [==============================] - 0s 137us/sample - loss: 2.5593 - val_loss: 3.0465\n",
      "Epoch 106/1000\n",
      "314/314 [==============================] - 0s 99us/sample - loss: 2.5340 - val_loss: 3.1486\n",
      "Epoch 107/1000\n",
      "314/314 [==============================] - 0s 107us/sample - loss: 2.6830 - val_loss: 3.3660\n",
      "Epoch 108/1000\n",
      "314/314 [==============================] - 0s 98us/sample - loss: 2.8293 - val_loss: 3.3338\n",
      "Epoch 109/1000\n",
      "314/314 [==============================] - 0s 103us/sample - loss: 2.6700 - val_loss: 3.4271\n",
      "Epoch 110/1000\n",
      "314/314 [==============================] - 0s 121us/sample - loss: 2.7442 - val_loss: 3.4235\n",
      "Epoch 111/1000\n",
      "314/314 [==============================] - 0s 116us/sample - loss: 2.7621 - val_loss: 3.3052\n",
      "Epoch 112/1000\n",
      "314/314 [==============================] - 0s 108us/sample - loss: 2.7450 - val_loss: 3.1459\n",
      "Epoch 113/1000\n",
      "314/314 [==============================] - 0s 95us/sample - loss: 2.5727 - val_loss: 3.1445\n",
      "Epoch 114/1000\n",
      "314/314 [==============================] - 0s 90us/sample - loss: 2.5585 - val_loss: 3.1184\n",
      "Epoch 115/1000\n",
      "314/314 [==============================] - 0s 123us/sample - loss: 2.3169 - val_loss: 2.9458\n",
      "Epoch 116/1000\n",
      "314/314 [==============================] - 0s 101us/sample - loss: 2.3691 - val_loss: 3.1770\n",
      "Epoch 117/1000\n",
      "314/314 [==============================] - 0s 108us/sample - loss: 2.2938 - val_loss: 3.1480\n",
      "Epoch 118/1000\n",
      "314/314 [==============================] - 0s 129us/sample - loss: 2.3930 - val_loss: 2.8095\n",
      "Epoch 119/1000\n",
      "314/314 [==============================] - 0s 94us/sample - loss: 2.3142 - val_loss: 3.3424\n",
      "Epoch 120/1000\n",
      "314/314 [==============================] - 0s 104us/sample - loss: 2.5877 - val_loss: 3.2216\n",
      "Epoch 121/1000\n",
      "314/314 [==============================] - 0s 95us/sample - loss: 2.8766 - val_loss: 3.1975\n",
      "Epoch 122/1000\n",
      "314/314 [==============================] - 0s 142us/sample - loss: 2.3897 - val_loss: 2.8079\n",
      "Epoch 123/1000\n",
      "314/314 [==============================] - 0s 112us/sample - loss: 2.2434 - val_loss: 2.8830\n",
      "Epoch 124/1000\n",
      "314/314 [==============================] - 0s 120us/sample - loss: 2.1187 - val_loss: 2.7023\n",
      "Epoch 125/1000\n",
      "314/314 [==============================] - 0s 122us/sample - loss: 2.0594 - val_loss: 2.7472\n",
      "Epoch 126/1000\n",
      "314/314 [==============================] - 0s 107us/sample - loss: 2.0445 - val_loss: 3.2560\n",
      "Epoch 127/1000\n",
      "314/314 [==============================] - 0s 133us/sample - loss: 2.1161 - val_loss: 2.6941\n",
      "Epoch 128/1000\n",
      "314/314 [==============================] - 0s 109us/sample - loss: 2.0838 - val_loss: 2.8666\n",
      "Epoch 129/1000\n",
      "314/314 [==============================] - 0s 93us/sample - loss: 2.0796 - val_loss: 2.9607\n",
      "Epoch 130/1000\n",
      "314/314 [==============================] - 0s 97us/sample - loss: 2.4338 - val_loss: 2.9162\n",
      "Epoch 131/1000\n",
      "314/314 [==============================] - 0s 136us/sample - loss: 2.1953 - val_loss: 2.6623\n",
      "Epoch 132/1000\n",
      "314/314 [==============================] - 0s 122us/sample - loss: 2.1554 - val_loss: 2.8937\n",
      "Epoch 133/1000\n",
      "314/314 [==============================] - 0s 131us/sample - loss: 2.0877 - val_loss: 2.6231\n",
      "Epoch 134/1000\n",
      "314/314 [==============================] - 0s 103us/sample - loss: 1.9677 - val_loss: 2.6715\n",
      "Epoch 135/1000\n",
      "314/314 [==============================] - 0s 106us/sample - loss: 1.9233 - val_loss: 2.7574\n",
      "Epoch 136/1000\n",
      "314/314 [==============================] - 0s 104us/sample - loss: 2.0715 - val_loss: 2.7657\n",
      "Epoch 137/1000\n",
      "314/314 [==============================] - 0s 142us/sample - loss: 2.0238 - val_loss: 2.5571\n",
      "Epoch 138/1000\n",
      "314/314 [==============================] - 0s 110us/sample - loss: 1.9419 - val_loss: 2.8969\n",
      "Epoch 139/1000\n",
      "314/314 [==============================] - 0s 110us/sample - loss: 2.2323 - val_loss: 2.5600\n",
      "Epoch 140/1000\n",
      "314/314 [==============================] - 0s 154us/sample - loss: 2.0173 - val_loss: 2.5543\n",
      "Epoch 141/1000\n",
      "314/314 [==============================] - 0s 117us/sample - loss: 1.8604 - val_loss: 2.6543\n",
      "Epoch 142/1000\n",
      "314/314 [==============================] - 0s 114us/sample - loss: 2.0680 - val_loss: 2.7427\n",
      "Epoch 143/1000\n",
      "314/314 [==============================] - 0s 142us/sample - loss: 1.8868 - val_loss: 2.4585\n",
      "Epoch 144/1000\n",
      "314/314 [==============================] - 0s 110us/sample - loss: 1.7695 - val_loss: 2.6158\n",
      "Epoch 145/1000\n",
      "314/314 [==============================] - 0s 132us/sample - loss: 1.8140 - val_loss: 2.4347\n",
      "Epoch 146/1000\n",
      "314/314 [==============================] - 0s 104us/sample - loss: 1.7785 - val_loss: 2.7366\n",
      "Epoch 147/1000\n",
      "314/314 [==============================] - 0s 99us/sample - loss: 2.0228 - val_loss: 2.5868\n",
      "Epoch 148/1000\n",
      "314/314 [==============================] - 0s 104us/sample - loss: 1.9406 - val_loss: 2.5266\n",
      "Epoch 149/1000\n",
      "314/314 [==============================] - 0s 110us/sample - loss: 1.7920 - val_loss: 2.5824\n",
      "Epoch 150/1000\n",
      "314/314 [==============================] - 0s 122us/sample - loss: 1.8428 - val_loss: 2.7824\n",
      "Epoch 151/1000\n",
      "314/314 [==============================] - 0s 138us/sample - loss: 1.8110 - val_loss: 2.4339\n",
      "Epoch 152/1000\n",
      "314/314 [==============================] - 0s 104us/sample - loss: 1.7566 - val_loss: 2.8996\n",
      "Epoch 153/1000\n",
      "314/314 [==============================] - 0s 102us/sample - loss: 1.9789 - val_loss: 3.1807\n",
      "Epoch 154/1000\n",
      "314/314 [==============================] - 0s 105us/sample - loss: 2.4923 - val_loss: 2.6820\n",
      "Epoch 155/1000\n",
      "314/314 [==============================] - 0s 128us/sample - loss: 1.9629 - val_loss: 2.3809\n",
      "Epoch 156/1000\n",
      "314/314 [==============================] - 0s 97us/sample - loss: 1.7769 - val_loss: 2.5878\n",
      "Epoch 157/1000\n",
      "314/314 [==============================] - 0s 100us/sample - loss: 1.8493 - val_loss: 2.4705\n",
      "Epoch 158/1000\n",
      "314/314 [==============================] - 0s 117us/sample - loss: 1.8454 - val_loss: 3.0164\n",
      "Epoch 159/1000\n",
      "314/314 [==============================] - 0s 111us/sample - loss: 2.1410 - val_loss: 2.5771\n",
      "Epoch 160/1000\n",
      "314/314 [==============================] - 0s 97us/sample - loss: 2.0116 - val_loss: 2.5479\n",
      "Epoch 161/1000\n",
      "314/314 [==============================] - 0s 121us/sample - loss: 1.6844 - val_loss: 2.3888\n",
      "Epoch 162/1000\n",
      "314/314 [==============================] - 0s 135us/sample - loss: 1.6220 - val_loss: 2.3319\n",
      "Epoch 163/1000\n",
      "314/314 [==============================] - 0s 141us/sample - loss: 1.5875 - val_loss: 2.2939\n",
      "Epoch 164/1000\n",
      "314/314 [==============================] - 0s 104us/sample - loss: 1.6951 - val_loss: 2.9587\n",
      "Epoch 165/1000\n",
      "314/314 [==============================] - 0s 101us/sample - loss: 2.0431 - val_loss: 2.5496\n",
      "Epoch 166/1000\n",
      "314/314 [==============================] - 0s 92us/sample - loss: 1.6624 - val_loss: 2.3685\n",
      "Epoch 167/1000\n",
      "314/314 [==============================] - 0s 103us/sample - loss: 1.6397 - val_loss: 2.8306\n",
      "Epoch 168/1000\n",
      "314/314 [==============================] - 0s 98us/sample - loss: 2.0024 - val_loss: 2.6863\n",
      "Epoch 169/1000\n",
      "314/314 [==============================] - 0s 96us/sample - loss: 2.3260 - val_loss: 3.0853\n",
      "Epoch 170/1000\n",
      "314/314 [==============================] - 0s 98us/sample - loss: 2.2296 - val_loss: 2.8779\n",
      "Epoch 171/1000\n",
      "314/314 [==============================] - 0s 100us/sample - loss: 2.2362 - val_loss: 2.5158\n",
      "Epoch 172/1000\n",
      "314/314 [==============================] - 0s 111us/sample - loss: 1.5762 - val_loss: 2.6261\n",
      "Epoch 173/1000\n",
      "314/314 [==============================] - 0s 107us/sample - loss: 1.8884 - val_loss: 2.6617\n",
      "Epoch 174/1000\n",
      "314/314 [==============================] - 0s 110us/sample - loss: 1.8945 - val_loss: 2.4313\n",
      "Epoch 175/1000\n",
      "314/314 [==============================] - 0s 139us/sample - loss: 1.5717 - val_loss: 2.2203\n",
      "Epoch 176/1000\n",
      "314/314 [==============================] - 0s 112us/sample - loss: 1.4874 - val_loss: 2.2823\n",
      "Epoch 177/1000\n",
      "314/314 [==============================] - 0s 101us/sample - loss: 1.5185 - val_loss: 2.5205\n",
      "Epoch 178/1000\n",
      "314/314 [==============================] - 0s 136us/sample - loss: 1.8458 - val_loss: 2.2180\n",
      "Epoch 179/1000\n",
      "314/314 [==============================] - 0s 106us/sample - loss: 1.5723 - val_loss: 2.6188\n",
      "Epoch 180/1000\n",
      "314/314 [==============================] - 0s 110us/sample - loss: 1.6704 - val_loss: 2.7904\n",
      "Epoch 181/1000\n",
      "314/314 [==============================] - 0s 103us/sample - loss: 2.1691 - val_loss: 3.2639\n",
      "Epoch 182/1000\n",
      "314/314 [==============================] - 0s 98us/sample - loss: 1.9758 - val_loss: 2.8510\n",
      "Epoch 183/1000\n",
      "314/314 [==============================] - 0s 106us/sample - loss: 1.9551 - val_loss: 2.8551\n",
      "Epoch 184/1000\n",
      "314/314 [==============================] - 0s 103us/sample - loss: 1.8691 - val_loss: 2.6661\n",
      "Epoch 185/1000\n",
      "314/314 [==============================] - 0s 102us/sample - loss: 2.1248 - val_loss: 2.8313\n",
      "Epoch 186/1000\n",
      "314/314 [==============================] - 0s 160us/sample - loss: 2.2340 - val_loss: 2.2071\n",
      "Epoch 187/1000\n",
      "314/314 [==============================] - 0s 113us/sample - loss: 1.5645 - val_loss: 2.3427\n",
      "Epoch 188/1000\n",
      "314/314 [==============================] - 0s 119us/sample - loss: 1.5809 - val_loss: 2.3859\n",
      "Epoch 189/1000\n",
      "314/314 [==============================] - 0s 117us/sample - loss: 1.6753 - val_loss: 2.6253\n",
      "Epoch 190/1000\n",
      "314/314 [==============================] - 0s 103us/sample - loss: 1.6764 - val_loss: 2.5975\n",
      "Epoch 191/1000\n",
      "314/314 [==============================] - 0s 101us/sample - loss: 1.8787 - val_loss: 2.4628\n",
      "Epoch 192/1000\n",
      "314/314 [==============================] - 0s 137us/sample - loss: 1.7141 - val_loss: 2.1817\n",
      "Epoch 193/1000\n",
      "314/314 [==============================] - 0s 123us/sample - loss: 1.6273 - val_loss: 2.7045\n",
      "Epoch 194/1000\n",
      "314/314 [==============================] - 0s 127us/sample - loss: 1.8958 - val_loss: 2.3707\n",
      "Epoch 195/1000\n",
      "314/314 [==============================] - 0s 98us/sample - loss: 1.7060 - val_loss: 2.6477\n",
      "Epoch 196/1000\n",
      "314/314 [==============================] - 0s 124us/sample - loss: 1.7779 - val_loss: 2.1401\n",
      "Epoch 197/1000\n",
      "314/314 [==============================] - 0s 86us/sample - loss: 1.4370 - val_loss: 2.4258\n",
      "Epoch 198/1000\n",
      "314/314 [==============================] - 0s 108us/sample - loss: 1.6526 - val_loss: 2.1782\n",
      "Epoch 199/1000\n",
      "314/314 [==============================] - 0s 105us/sample - loss: 1.5283 - val_loss: 2.3857\n",
      "Epoch 200/1000\n",
      "314/314 [==============================] - 0s 106us/sample - loss: 1.5644 - val_loss: 2.3000\n",
      "Epoch 201/1000\n",
      "314/314 [==============================] - 0s 100us/sample - loss: 1.6447 - val_loss: 2.5299\n",
      "Epoch 202/1000\n",
      "314/314 [==============================] - 0s 109us/sample - loss: 1.5215 - val_loss: 2.9020\n",
      "Epoch 203/1000\n",
      "314/314 [==============================] - 0s 114us/sample - loss: 2.1186 - val_loss: 2.3140\n",
      "Epoch 204/1000\n",
      "314/314 [==============================] - 0s 107us/sample - loss: 1.6635 - val_loss: 2.4130\n",
      "Epoch 205/1000\n",
      "314/314 [==============================] - 0s 151us/sample - loss: 1.7033 - val_loss: 2.0522\n",
      "Epoch 206/1000\n",
      "314/314 [==============================] - 0s 117us/sample - loss: 1.3815 - val_loss: 2.1695\n",
      "Epoch 207/1000\n",
      "314/314 [==============================] - 0s 106us/sample - loss: 1.5868 - val_loss: 2.6513\n",
      "Epoch 208/1000\n",
      "314/314 [==============================] - 0s 111us/sample - loss: 1.8809 - val_loss: 3.1411\n",
      "Epoch 209/1000\n",
      "314/314 [==============================] - 0s 98us/sample - loss: 2.3324 - val_loss: 2.1594\n",
      "Epoch 210/1000\n",
      "314/314 [==============================] - 0s 106us/sample - loss: 1.5297 - val_loss: 2.0717\n",
      "Epoch 211/1000\n",
      "314/314 [==============================] - 0s 115us/sample - loss: 1.3095 - val_loss: 2.2612\n",
      "Epoch 212/1000\n",
      "314/314 [==============================] - 0s 115us/sample - loss: 1.4179 - val_loss: 2.0689\n",
      "Epoch 213/1000\n",
      "314/314 [==============================] - 0s 101us/sample - loss: 1.4400 - val_loss: 2.5390\n",
      "Epoch 214/1000\n",
      "314/314 [==============================] - 0s 115us/sample - loss: 1.6383 - val_loss: 2.1609\n",
      "Epoch 215/1000\n",
      "314/314 [==============================] - 0s 98us/sample - loss: 1.5261 - val_loss: 2.2674\n",
      "Epoch 216/1000\n",
      "314/314 [==============================] - 0s 104us/sample - loss: 1.5200 - val_loss: 2.3400\n",
      "Epoch 217/1000\n",
      "314/314 [==============================] - 0s 99us/sample - loss: 1.7545 - val_loss: 2.7445\n",
      "Epoch 218/1000\n",
      "314/314 [==============================] - 0s 102us/sample - loss: 1.7474 - val_loss: 2.2153\n",
      "Epoch 219/1000\n",
      "314/314 [==============================] - 0s 95us/sample - loss: 1.6383 - val_loss: 2.2845\n",
      "Epoch 220/1000\n",
      "314/314 [==============================] - 0s 108us/sample - loss: 1.3990 - val_loss: 2.1976\n",
      "Epoch 221/1000\n",
      "314/314 [==============================] - 0s 114us/sample - loss: 1.5485 - val_loss: 2.5034\n",
      "Epoch 222/1000\n",
      "314/314 [==============================] - 0s 104us/sample - loss: 1.5331 - val_loss: 2.3725\n",
      "Epoch 223/1000\n",
      "314/314 [==============================] - 0s 114us/sample - loss: 1.6495 - val_loss: 1.9633\n",
      "Epoch 224/1000\n",
      "314/314 [==============================] - 0s 108us/sample - loss: 1.2547 - val_loss: 2.0154\n",
      "Epoch 225/1000\n",
      "314/314 [==============================] - 0s 106us/sample - loss: 1.2594 - val_loss: 2.1060\n",
      "Epoch 226/1000\n",
      "314/314 [==============================] - 0s 107us/sample - loss: 1.4568 - val_loss: 2.0362\n",
      "Epoch 227/1000\n",
      "314/314 [==============================] - 0s 108us/sample - loss: 1.2445 - val_loss: 1.9692\n",
      "Epoch 228/1000\n",
      "314/314 [==============================] - 0s 147us/sample - loss: 1.2040 - val_loss: 1.9315\n",
      "Epoch 229/1000\n",
      "314/314 [==============================] - 0s 101us/sample - loss: 1.2527 - val_loss: 2.0973\n",
      "Epoch 230/1000\n",
      "314/314 [==============================] - 0s 100us/sample - loss: 1.5901 - val_loss: 3.3600\n",
      "Epoch 231/1000\n",
      "314/314 [==============================] - 0s 126us/sample - loss: 1.9170 - val_loss: 2.3619\n",
      "Epoch 232/1000\n",
      "314/314 [==============================] - 0s 126us/sample - loss: 1.7393 - val_loss: 2.6121\n",
      "Epoch 233/1000\n",
      "314/314 [==============================] - 0s 108us/sample - loss: 1.5442 - val_loss: 2.5164\n",
      "Epoch 234/1000\n",
      "314/314 [==============================] - 0s 102us/sample - loss: 2.2006 - val_loss: 2.6635\n",
      "Epoch 235/1000\n",
      "314/314 [==============================] - 0s 108us/sample - loss: 1.7612 - val_loss: 2.1206\n",
      "Epoch 236/1000\n",
      "314/314 [==============================] - 0s 116us/sample - loss: 1.3198 - val_loss: 2.1643\n",
      "Epoch 237/1000\n",
      "314/314 [==============================] - 0s 113us/sample - loss: 1.2510 - val_loss: 2.5430\n",
      "Epoch 238/1000\n",
      "314/314 [==============================] - 0s 112us/sample - loss: 1.9568 - val_loss: 2.5842\n",
      "Epoch 239/1000\n",
      "314/314 [==============================] - 0s 136us/sample - loss: 1.5331 - val_loss: 1.9042\n",
      "Epoch 240/1000\n",
      "314/314 [==============================] - 0s 105us/sample - loss: 1.1775 - val_loss: 2.0472\n",
      "Epoch 241/1000\n",
      "314/314 [==============================] - 0s 113us/sample - loss: 1.2751 - val_loss: 1.9116\n",
      "Epoch 242/1000\n",
      "314/314 [==============================] - 0s 106us/sample - loss: 1.2666 - val_loss: 2.1693\n",
      "Epoch 243/1000\n",
      "314/314 [==============================] - 0s 112us/sample - loss: 1.4339 - val_loss: 2.0624\n",
      "Epoch 244/1000\n",
      "314/314 [==============================] - 0s 116us/sample - loss: 1.4518 - val_loss: 2.2821\n",
      "Epoch 245/1000\n",
      "314/314 [==============================] - 0s 121us/sample - loss: 1.3591 - val_loss: 2.0282\n",
      "Epoch 246/1000\n",
      "314/314 [==============================] - 0s 120us/sample - loss: 1.4311 - val_loss: 2.8081\n",
      "Epoch 247/1000\n",
      "314/314 [==============================] - 0s 109us/sample - loss: 1.7035 - val_loss: 2.2436\n",
      "Epoch 248/1000\n",
      "314/314 [==============================] - 0s 164us/sample - loss: 1.5527 - val_loss: 1.8531\n",
      "Epoch 249/1000\n",
      "314/314 [==============================] - 0s 106us/sample - loss: 1.2422 - val_loss: 2.1808\n",
      "Epoch 250/1000\n",
      "314/314 [==============================] - 0s 106us/sample - loss: 1.3882 - val_loss: 2.5140\n",
      "Epoch 251/1000\n",
      "314/314 [==============================] - 0s 109us/sample - loss: 1.4875 - val_loss: 2.0865\n",
      "Epoch 252/1000\n",
      "314/314 [==============================] - 0s 108us/sample - loss: 1.3356 - val_loss: 2.1670\n",
      "Epoch 253/1000\n",
      "314/314 [==============================] - 0s 117us/sample - loss: 1.3307 - val_loss: 1.9813\n",
      "Epoch 254/1000\n",
      "314/314 [==============================] - 0s 141us/sample - loss: 1.1972 - val_loss: 1.8371\n",
      "Epoch 255/1000\n",
      "314/314 [==============================] - 0s 125us/sample - loss: 1.0939 - val_loss: 1.8311\n",
      "Epoch 256/1000\n",
      "314/314 [==============================] - 0s 115us/sample - loss: 1.1661 - val_loss: 1.9061\n",
      "Epoch 257/1000\n",
      "314/314 [==============================] - 0s 113us/sample - loss: 1.1220 - val_loss: 1.9902\n",
      "Epoch 258/1000\n",
      "314/314 [==============================] - 0s 118us/sample - loss: 1.3293 - val_loss: 2.5140\n",
      "Epoch 259/1000\n",
      "314/314 [==============================] - 0s 121us/sample - loss: 1.4648 - val_loss: 1.9067\n",
      "Epoch 260/1000\n",
      "314/314 [==============================] - 0s 123us/sample - loss: 1.1936 - val_loss: 1.9077\n",
      "Epoch 261/1000\n",
      "314/314 [==============================] - 0s 134us/sample - loss: 1.1442 - val_loss: 1.8583\n",
      "Epoch 262/1000\n",
      "314/314 [==============================] - 0s 127us/sample - loss: 1.0782 - val_loss: 2.0184\n",
      "Epoch 263/1000\n",
      "314/314 [==============================] - 0s 92us/sample - loss: 1.2491 - val_loss: 2.2919\n",
      "Epoch 264/1000\n",
      "314/314 [==============================] - 0s 116us/sample - loss: 1.4841 - val_loss: 2.1181\n",
      "Epoch 265/1000\n",
      "314/314 [==============================] - 0s 110us/sample - loss: 1.5435 - val_loss: 3.4659\n",
      "Epoch 266/1000\n",
      "314/314 [==============================] - 0s 109us/sample - loss: 1.8423 - val_loss: 1.9646\n",
      "Epoch 267/1000\n",
      "314/314 [==============================] - 0s 114us/sample - loss: 1.2652 - val_loss: 2.7147\n",
      "Epoch 268/1000\n",
      "314/314 [==============================] - 0s 124us/sample - loss: 1.7487 - val_loss: 2.4637\n",
      "Epoch 269/1000\n",
      "314/314 [==============================] - 0s 117us/sample - loss: 1.8026 - val_loss: 1.8882\n",
      "Epoch 270/1000\n",
      "314/314 [==============================] - 0s 136us/sample - loss: 1.0907 - val_loss: 1.7739\n",
      "Epoch 271/1000\n",
      "314/314 [==============================] - 0s 122us/sample - loss: 0.9793 - val_loss: 1.7640\n",
      "Epoch 272/1000\n",
      "314/314 [==============================] - 0s 105us/sample - loss: 1.0365 - val_loss: 1.7926\n",
      "Epoch 273/1000\n",
      "314/314 [==============================] - 0s 114us/sample - loss: 1.0637 - val_loss: 1.9335\n",
      "Epoch 274/1000\n",
      "314/314 [==============================] - 0s 100us/sample - loss: 1.1248 - val_loss: 2.0274\n",
      "Epoch 275/1000\n",
      "314/314 [==============================] - 0s 106us/sample - loss: 1.3314 - val_loss: 2.5500\n",
      "Epoch 276/1000\n",
      "314/314 [==============================] - 0s 122us/sample - loss: 1.3574 - val_loss: 2.2479\n",
      "Epoch 277/1000\n",
      "314/314 [==============================] - 0s 99us/sample - loss: 1.5146 - val_loss: 2.1149\n",
      "Epoch 278/1000\n",
      "314/314 [==============================] - 0s 108us/sample - loss: 1.2937 - val_loss: 2.2771\n",
      "Epoch 279/1000\n",
      "314/314 [==============================] - 0s 96us/sample - loss: 1.5726 - val_loss: 2.1060\n",
      "Epoch 280/1000\n",
      "314/314 [==============================] - 0s 104us/sample - loss: 1.1017 - val_loss: 1.8534\n",
      "Epoch 281/1000\n",
      "314/314 [==============================] - 0s 104us/sample - loss: 1.1555 - val_loss: 2.1574\n",
      "Epoch 282/1000\n",
      "314/314 [==============================] - 0s 107us/sample - loss: 1.1942 - val_loss: 1.8196\n",
      "Epoch 283/1000\n",
      "314/314 [==============================] - 0s 111us/sample - loss: 1.1666 - val_loss: 1.8617\n",
      "Epoch 284/1000\n",
      "314/314 [==============================] - 0s 104us/sample - loss: 1.0805 - val_loss: 2.0829\n",
      "Epoch 285/1000\n",
      "314/314 [==============================] - 0s 109us/sample - loss: 1.3254 - val_loss: 2.2838\n",
      "Epoch 286/1000\n",
      "314/314 [==============================] - 0s 115us/sample - loss: 1.3689 - val_loss: 1.8619\n",
      "Epoch 287/1000\n",
      "314/314 [==============================] - 0s 98us/sample - loss: 1.0671 - val_loss: 2.0034\n",
      "Epoch 288/1000\n",
      "314/314 [==============================] - 0s 113us/sample - loss: 1.3481 - val_loss: 1.9934\n",
      "Epoch 289/1000\n",
      "314/314 [==============================] - 0s 122us/sample - loss: 1.5557 - val_loss: 2.0194\n",
      "Epoch 290/1000\n",
      "314/314 [==============================] - 0s 109us/sample - loss: 1.3614 - val_loss: 2.1548\n",
      "Epoch 291/1000\n",
      "314/314 [==============================] - 0s 132us/sample - loss: 1.5977 - val_loss: 3.0049\n",
      "Epoch 292/1000\n",
      "314/314 [==============================] - 0s 110us/sample - loss: 1.5238 - val_loss: 1.9410\n",
      "Epoch 293/1000\n",
      "314/314 [==============================] - 0s 105us/sample - loss: 1.1970 - val_loss: 1.8856\n",
      "Epoch 294/1000\n",
      "314/314 [==============================] - 0s 120us/sample - loss: 1.0989 - val_loss: 2.1358\n",
      "Epoch 295/1000\n",
      "314/314 [==============================] - 0s 108us/sample - loss: 1.4551 - val_loss: 2.1867\n",
      "Epoch 296/1000\n",
      "314/314 [==============================] - 0s 111us/sample - loss: 1.2364 - val_loss: 1.7682\n",
      "Epoch 297/1000\n",
      "314/314 [==============================] - 0s 104us/sample - loss: 1.0245 - val_loss: 1.7695\n",
      "Epoch 298/1000\n",
      "314/314 [==============================] - 0s 99us/sample - loss: 1.0017 - val_loss: 1.7893\n",
      "Epoch 299/1000\n",
      "314/314 [==============================] - 0s 104us/sample - loss: 1.0423 - val_loss: 1.9165\n",
      "Epoch 300/1000\n",
      "314/314 [==============================] - 0s 110us/sample - loss: 1.2163 - val_loss: 1.9810\n",
      "Epoch 301/1000\n",
      "128/314 [===========>..................] - ETA: 0s - loss: 1.1109Restoring model weights from the end of the best epoch.\n",
      "314/314 [==============================] - 0s 133us/sample - loss: 1.1513 - val_loss: 1.8091\n",
      "Epoch 00301: early stopping\n"
     ]
    }
   ],
   "source": [
    "variational_oversampler.fit(x_train, y_train, 1)"
   ]
  },
  {
   "cell_type": "code",
   "execution_count": 25,
   "metadata": {},
   "outputs": [],
   "source": [
    "n_resample = int(Counter(y_train)[0] * 0.04 - Counter(y_train)[1])"
   ]
  },
  {
   "cell_type": "code",
   "execution_count": 26,
   "metadata": {},
   "outputs": [
    {
     "name": "stdout",
     "output_type": "stream",
     "text": [
      "8704/8704 [==============================] - 0s 39us/sample\n"
     ]
    }
   ],
   "source": [
    "x_gen = variational_oversampler.decoder.predict(np.random.normal(size = (n_resample, variational_oversampler.latent_dim)), verbose=1)"
   ]
  },
  {
   "cell_type": "code",
   "execution_count": 27,
   "metadata": {},
   "outputs": [],
   "source": [
    "x_resample =  np.concatenate([x_train, x_gen], axis =0)\n",
    "y_resample = np.concatenate([y_train, np.full((n_resample,) , 1)], axis =0)"
   ]
  },
  {
   "cell_type": "code",
   "execution_count": 28,
   "metadata": {},
   "outputs": [],
   "source": [
    "x_resample, y_resample = shuffle(x_resample, y_resample)"
   ]
  },
  {
   "cell_type": "code",
   "execution_count": 29,
   "metadata": {},
   "outputs": [
    {
     "name": "stderr",
     "output_type": "stream",
     "text": [
      "[Parallel(n_jobs=6)]: Using backend LokyBackend with 6 concurrent workers.\n",
      "[Parallel(n_jobs=6)]: Done   1 out of   1 | elapsed:    6.2s finished\n"
     ]
    },
    {
     "data": {
      "text/plain": [
       "LogisticRegression(C=1.0, class_weight=None, dual=False, fit_intercept=True,\n",
       "                   intercept_scaling=1, l1_ratio=None, max_iter=100,\n",
       "                   multi_class='ovr', n_jobs=6, penalty='l2', random_state=None,\n",
       "                   solver='lbfgs', tol=0.0001, verbose=2, warm_start=False)"
      ]
     },
     "execution_count": 29,
     "metadata": {},
     "output_type": "execute_result"
    }
   ],
   "source": [
    "logistic_regression = LogisticRegression(penalty='l2', dual=False, tol=0.0001, C=1.0, fit_intercept=True\n",
    "                                        , intercept_scaling=1, class_weight=None, random_state=None, solver='lbfgs', max_iter=100\n",
    "                                        , multi_class='ovr', verbose=2, warm_start=False, n_jobs=6\n",
    "                        )\n",
    "logistic_regression.fit(x_resample, y_resample)"
   ]
  },
  {
   "cell_type": "code",
   "execution_count": 30,
   "metadata": {},
   "outputs": [],
   "source": [
    "y_pred = logistic_regression.predict(x_test)"
   ]
  },
  {
   "cell_type": "code",
   "execution_count": 31,
   "metadata": {},
   "outputs": [
    {
     "name": "stdout",
     "output_type": "stream",
     "text": [
      "\t\tT\tF\n",
      "\t1 [   80,    47]\n",
      "\t0 [   15, 56814]\n",
      "accuracy : \t0.99891\n",
      "precision : \t0.84211\n",
      "recall : \t0.62992\n",
      "f1score : \t0.72072\n"
     ]
    }
   ],
   "source": [
    "confusion_matrix_report(y_pred, y_test)"
   ]
  }
 ],
 "metadata": {
  "kernelspec": {
   "display_name": "pico",
   "language": "python",
   "name": "pico"
  },
  "language_info": {
   "codemirror_mode": {
    "name": "ipython",
    "version": 3
   },
   "file_extension": ".py",
   "mimetype": "text/x-python",
   "name": "python",
   "nbconvert_exporter": "python",
   "pygments_lexer": "ipython3",
   "version": "3.7.3"
  }
 },
 "nbformat": 4,
 "nbformat_minor": 4
}
